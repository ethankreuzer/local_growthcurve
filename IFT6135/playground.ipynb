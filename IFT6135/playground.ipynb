{
 "cells": [
  {
   "cell_type": "code",
   "execution_count": 2,
   "metadata": {},
   "outputs": [
    {
     "name": "stdout",
     "output_type": "stream",
     "text": [
      "(4, 2, 3)\n",
      "Batch Normalization:\n",
      "μ_batch: [2.58333333 2.91666667]\n",
      "σ²_batch: [1.57638889 1.24305556]\n",
      "\n",
      "Layer Normalization:\n",
      "Sample 0: μ = 3.167, σ² = 1.806\n",
      "Sample 1: μ = 2.000, σ² = 1.000\n",
      "Sample 2: μ = 2.500, σ² = 0.917\n",
      "Sample 3: μ = 3.333, σ² = 0.889\n",
      "\n",
      "Instance Normalization:\n",
      "Sample 0:\n",
      "  Channel 0: μ = 2.667, σ² = 2.889\n",
      "  Channel 1: μ = 3.667, σ² = 0.222\n",
      "Sample 1:\n",
      "  Channel 0: μ = 2.333, σ² = 1.556\n",
      "  Channel 1: μ = 1.667, σ² = 0.222\n",
      "Sample 2:\n",
      "  Channel 0: μ = 2.000, σ² = 0.667\n",
      "  Channel 1: μ = 3.000, σ² = 0.667\n",
      "Sample 3:\n",
      "  Channel 0: μ = 3.333, σ² = 0.222\n",
      "  Channel 1: μ = 3.333, σ² = 1.556\n"
     ]
    }
   ],
   "source": [
    "import numpy as np\n",
    "\n",
    "# Define the tensor with shape (4, 2, 3)\n",
    "X = np.array([\n",
    "    [[2, 5, 1], [4, 3, 4]],\n",
    "    [[1, 2, 4], [1, 2, 2]],\n",
    "    [[3, 1, 2], [3, 2, 4]],\n",
    "    [[3, 4, 3], [5, 2, 3]]\n",
    "])\n",
    "print(X.shape)\n",
    "# Batch Normalization: mean and variance over batch and spatial dimensions (axis=(0, 2))\n",
    "mu_batch = X.mean(axis=(0, 2))\n",
    "var_batch = X.var(axis=(0, 2))\n",
    "\n",
    "# Layer Normalization: mean and variance over all channels and spatial dims per sample (axis=(1, 2))\n",
    "mu_layer = X.mean(axis=(1, 2))\n",
    "var_layer = X.var(axis=(1, 2))\n",
    "\n",
    "# Instance Normalization: mean and variance per sample per channel across spatial dims (axis=2)\n",
    "mu_instance = X.mean(axis=2)\n",
    "var_instance = X.var(axis=2)\n",
    "\n",
    "# Print results\n",
    "print(\"Batch Normalization:\")\n",
    "print(\"μ_batch:\", mu_batch)\n",
    "print(\"σ²_batch:\", var_batch)\n",
    "\n",
    "print(\"\\nLayer Normalization:\")\n",
    "for i in range(len(mu_layer)):\n",
    "    print(f\"Sample {i}: μ = {mu_layer[i]:.3f}, σ² = {var_layer[i]:.3f}\")\n",
    "\n",
    "print(\"\\nInstance Normalization:\")\n",
    "for i in range(len(mu_instance)):\n",
    "    print(f\"Sample {i}:\")\n",
    "    for c in range(mu_instance.shape[1]):\n",
    "        print(f\"  Channel {c}: μ = {mu_instance[i, c]:.3f}, σ² = {var_instance[i, c]:.3f}\")\n"
   ]
  }
 ],
 "metadata": {
  "kernelspec": {
   "display_name": "base",
   "language": "python",
   "name": "python3"
  },
  "language_info": {
   "codemirror_mode": {
    "name": "ipython",
    "version": 3
   },
   "file_extension": ".py",
   "mimetype": "text/x-python",
   "name": "python",
   "nbconvert_exporter": "python",
   "pygments_lexer": "ipython3",
   "version": "3.9.13"
  }
 },
 "nbformat": 4,
 "nbformat_minor": 2
}
